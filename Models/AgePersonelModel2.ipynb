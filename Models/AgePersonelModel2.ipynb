{
 "cells": [
  {
   "cell_type": "code",
   "execution_count": 2,
   "id": "initial_id",
   "metadata": {
    "collapsed": true,
    "ExecuteTime": {
     "end_time": "2024-05-21T16:05:52.983138Z",
     "start_time": "2024-05-21T15:59:39.231868Z"
    }
   },
   "outputs": [
    {
     "ename": "ValueError",
     "evalue": "setting an array element with a sequence. The requested array has an inhomogeneous shape after 1 dimensions. The detected shape was (24103,) + inhomogeneous part.",
     "output_type": "error",
     "traceback": [
      "\u001B[1;31m---------------------------------------------------------------------------\u001B[0m",
      "\u001B[1;31mValueError\u001B[0m                                Traceback (most recent call last)",
      "Cell \u001B[1;32mIn[2], line 22\u001B[0m\n\u001B[0;32m     20\u001B[0m   age\u001B[38;5;241m.\u001B[39mappend(np\u001B[38;5;241m.\u001B[39marray(ages))\n\u001B[0;32m     21\u001B[0m age \u001B[38;5;241m=\u001B[39m np\u001B[38;5;241m.\u001B[39marray(age,dtype\u001B[38;5;241m=\u001B[39mnp\u001B[38;5;241m.\u001B[39mint64)\n\u001B[1;32m---> 22\u001B[0m pixels \u001B[38;5;241m=\u001B[39m \u001B[43mnp\u001B[49m\u001B[38;5;241;43m.\u001B[39;49m\u001B[43marray\u001B[49m\u001B[43m(\u001B[49m\u001B[43mpixels\u001B[49m\u001B[43m)\u001B[49m\n\u001B[0;32m     24\u001B[0m x_train,x_test,y_train,y_test \u001B[38;5;241m=\u001B[39m train_test_split(pixels,age,random_state\u001B[38;5;241m=\u001B[39m\u001B[38;5;241m100\u001B[39m)\n\u001B[0;32m     26\u001B[0m \u001B[38;5;28minput\u001B[39m \u001B[38;5;241m=\u001B[39m Input(shape\u001B[38;5;241m=\u001B[39m(\u001B[38;5;241m200\u001B[39m,\u001B[38;5;241m200\u001B[39m,\u001B[38;5;241m3\u001B[39m))\n",
      "\u001B[1;31mValueError\u001B[0m: setting an array element with a sequence. The requested array has an inhomogeneous shape after 1 dimensions. The detected shape was (24103,) + inhomogeneous part."
     ]
    }
   ],
   "source": [
    "import pandas as pd\n",
    "import numpy as np\n",
    "import os\n",
    "import matplotlib.pyplot as plt\n",
    "import cv2\n",
    "from tensorflow.keras.models import Sequential,load_model,Model\n",
    "from tensorflow.keras.layers import Conv2D,MaxPool2D,Dense,Dropout,BatchNormalization,Flatten,Input\n",
    "from sklearn.model_selection import train_test_split\n",
    "from tensorflow.keras.callbacks import ModelCheckpoint\n",
    "\n",
    "path = r\"C:\\Users\\Gabriel\\Documents\\Inge-2I\\UTK_Dataset\"\n",
    "pixels = []\n",
    "age = []\n",
    "gender = []\n",
    "for img in os.listdir(path):\n",
    "  ages = img.split(\"_\")[0]\n",
    "  img = cv2.imread(str(path)+\"/\"+str(img))\n",
    "  img = cv2.cvtColor(img,cv2.COLOR_BGR2RGB)\n",
    "  pixels.append(np.array(img))\n",
    "  age.append(np.array(ages))\n",
    "age = np.array(age,dtype=np.int64)\n",
    "pixels = np.array(pixels)\n",
    "\n",
    "x_train,x_test,y_train,y_test = train_test_split(pixels,age,random_state=100)\n",
    "\n",
    "input = Input(shape=(200,200,3))\n",
    "conv1 = Conv2D(140,(3,3),activation=\"relu\")(input)\n",
    "conv2 = Conv2D(130,(3,3),activation=\"relu\")(conv1)\n",
    "batch1 = BatchNormalization()(conv2)\n",
    "pool3 = MaxPool2D((2,2))(batch1)\n",
    "conv3 = Conv2D(120,(3,3),activation=\"relu\")(pool3)\n",
    "batch2 = BatchNormalization()(conv3)\n",
    "pool4 = MaxPool2D((2,2))(batch2)\n",
    "flt = Flatten()(pool4)\n",
    "#age\n",
    "age_l = Dense(128,activation=\"relu\")(flt)\n",
    "age_l = Dense(64,activation=\"relu\")(age_l)\n",
    "age_l = Dense(32,activation=\"relu\")(age_l)\n",
    "age_l = Dense(1,activation=\"relu\")(age_l)\n",
    "\n",
    "checkpoint_callback = ModelCheckpoint(\n",
    "    filepath='AgePersonelModel2.keras',\n",
    "    monitor='val_mae',\n",
    "    save_best_only=True,\n",
    "    save_weights_only=False,\n",
    "    mode='min',  # 'min' car nous voulons minimiser 'val_mae'\n",
    "    verbose=1\n",
    ")\n",
    "\n",
    "\n",
    "model = Model(inputs=input,outputs=[age_l])\n",
    "model.compile(optimizer=\"adam\",loss=[\"mse\"],metrics=['mae'])\n",
    "save = model.fit(x_train,y_train,validation_data=(x_test,y_test),epochs=50,callbacks=[checkpoint_callback])\n",
    "model.save(\"model.keras\")"
   ]
  },
  {
   "cell_type": "code",
   "outputs": [],
   "source": [],
   "metadata": {
    "collapsed": false
   },
   "id": "417473562a93e6d1"
  }
 ],
 "metadata": {
  "kernelspec": {
   "display_name": "Python 3",
   "language": "python",
   "name": "python3"
  },
  "language_info": {
   "codemirror_mode": {
    "name": "ipython",
    "version": 2
   },
   "file_extension": ".py",
   "mimetype": "text/x-python",
   "name": "python",
   "nbconvert_exporter": "python",
   "pygments_lexer": "ipython2",
   "version": "2.7.6"
  }
 },
 "nbformat": 4,
 "nbformat_minor": 5
}
