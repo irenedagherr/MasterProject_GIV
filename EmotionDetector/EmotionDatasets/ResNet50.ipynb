{
 "cells": [
  {
   "cell_type": "code",
   "execution_count": null,
   "id": "initial_id",
   "metadata": {
    "collapsed": true
   },
   "outputs": [],
   "source": [
    "import os\n",
    "import numpy as np # linear algebra\n",
    "import pandas as pd # data processing, CSV file I/O (e.g. pd.read_csv)\n",
    "import matplotlib.pyplot as plt\n",
    "import seaborn as sns\n",
    "\n",
    "from tensorflow.keras.preprocessing.image import ImageDataGenerator\n",
    "from tensorflow.keras.layers import BatchNormalization, GlobalAveragePooling2D, Dense, Dropout\n",
    "from tensorflow.keras.models import Sequential\n",
    "from tensorflow.keras.optimizers import Adamax\n",
    "from tensorflow.keras.applications import ResNet50V2\n",
    "from tensorflow.keras.callbacks import EarlyStopping\n",
    "\n",
    "from sklearn.metrics import roc_curve, auc, confusion_matrix, classification_report\n",
    "from sklearn.utils.class_weight import compute_class_weight\n",
    "\n",
    "import warnings\n",
    "warnings.filterwarnings('ignore')"
   ]
  },
  {
   "cell_type": "code",
   "outputs": [],
   "source": [
    "train_dir = '/kaggle/input/emotion-detection-fer/train'\n",
    "emotions = os.listdir(train_dir)\n",
    "\n",
    "train_counts = []\n",
    "\n",
    "for emotion in emotions:\n",
    "    folder = os.path.join(train_dir, emotion)\n",
    "    train_counts.append(len(os.listdir(folder)))\n",
    "    \n",
    "sns.barplot(x=emotions, y=train_counts, palette='magma')"
   ],
   "metadata": {
    "collapsed": false
   },
   "id": "a5dea35a853d7989"
  },
  {
   "cell_type": "code",
   "outputs": [],
   "source": [
    "test_dir = '/kaggle/input/emotion-detection-fer/test'\n",
    "\n",
    "test_counts = []\n",
    "\n",
    "for emotion in emotions:\n",
    "    folder = os.path.join(test_dir, emotion)\n",
    "    test_counts.append(len(os.listdir(folder)))\n",
    "    \n",
    "sns.barplot(x=emotions, y=test_counts, palette='magma')"
   ],
   "metadata": {
    "collapsed": false
   },
   "id": "f6cec58ba2d9c1bb"
  },
  {
   "cell_type": "code",
   "outputs": [],
   "source": [
    "plt.figure(figsize=(15,10))\n",
    "\n",
    "for i, emotion in enumerate(emotions, 1):\n",
    "    folder = os.path.join(train_dir, emotion)\n",
    "    img_path = os.path.join(folder, os.listdir(folder)[42])\n",
    "    img = plt.imread(img_path)\n",
    "    plt.subplot(3, 4, i)\n",
    "    plt.imshow(img, cmap='gray')\n",
    "    plt.title(emotion)\n",
    "    plt.axis('off')\n"
   ],
   "metadata": {
    "collapsed": false
   },
   "id": "1bf4dbabc5554226"
  },
  {
   "cell_type": "code",
   "outputs": [],
   "source": [
    "train_datagen = ImageDataGenerator(\n",
    "    rescale=1/255,\n",
    "    rotation_range=40,\n",
    "    width_shift_range=0.2,\n",
    "    height_shift_range=0.2,\n",
    "    shear_range=0.2,\n",
    "    zoom_range=0.1,\n",
    "    horizontal_flip=True,\n",
    "    fill_mode='nearest'\n",
    ")\n",
    "\n",
    "test_datagen = ImageDataGenerator(\n",
    "    rescale=1/255\n",
    ")\n",
    "\n",
    "train_generator = train_datagen.flow_from_directory(\n",
    "    train_dir,\n",
    "    target_size=(224, 224),\n",
    "    color_mode='rgb',\n",
    "    class_mode='categorical',\n",
    "    batch_size=32\n",
    ")\n",
    "\n",
    "test_generator = test_datagen.flow_from_directory(\n",
    "    test_dir,\n",
    "    target_size=(224, 224),\n",
    "    color_mode='rgb',\n",
    "    class_mode='categorical',\n",
    "    batch_size=32\n",
    ")"
   ],
   "metadata": {
    "collapsed": false
   },
   "id": "34058712e1cff10b"
  },
  {
   "cell_type": "code",
   "outputs": [],
   "source": [
    "classes = np.array(train_generator.classes)\n",
    "\n",
    "class_weights = compute_class_weight(\n",
    "    class_weight='balanced',\n",
    "    classes=np.unique(classes),\n",
    "    y=classes\n",
    ")\n",
    "\n",
    "class_weights_dict = dict(enumerate(class_weights))\n",
    "class_weights_dict"
   ],
   "metadata": {
    "collapsed": false
   },
   "id": "6faaf6f7efdf923e"
  },
  {
   "cell_type": "code",
   "outputs": [],
   "source": [
    "nput_shape = (224, 224, 3)  \n",
    "\n",
    "base_model = ResNet50V2(include_top=False, weights='imagenet', input_shape=input_shape)\n",
    "\n",
    "model = Sequential([\n",
    "    base_model,\n",
    "    BatchNormalization(),\n",
    "    GlobalAveragePooling2D(),\n",
    "    Dense(512, activation='relu'),\n",
    "    Dropout(0.1),\n",
    "    Dense(256, activation='relu'),\n",
    "    Dropout(0.1),\n",
    "    Dense(128, activation='relu'),\n",
    "    Dropout(0.1),\n",
    "    Dense(7, activation='softmax')\n",
    "])\n",
    "\n",
    "optimizer = Adamax(learning_rate=0.0001)\n",
    "\n",
    "model.compile(optimizer=optimizer, loss='categorical_crossentropy', metrics=['accuracy'])\n",
    "model.summary()"
   ],
   "metadata": {
    "collapsed": false
   },
   "id": "f93c4b4273cd42c3"
  },
  {
   "cell_type": "code",
   "outputs": [],
   "source": [
    "train_history = model.fit(\n",
    "    train_generator,\n",
    "    steps_per_epoch=200,\n",
    "    epochs=50,\n",
    "    validation_data=test_generator,\n",
    "    validation_steps=100,\n",
    "    class_weight=class_weights_dict\n",
    ")"
   ],
   "metadata": {
    "collapsed": false
   },
   "id": "b663b08c895a50d6"
  },
  {
   "cell_type": "code",
   "outputs": [],
   "source": [
    "plt.figure(figsize=(15,10))\n",
    "\n",
    "plt.subplot(2,1,1)\n",
    "plt.plot(train_history.history['loss'])\n",
    "plt.plot(train_history.history['val_loss'], 'ro')\n",
    "plt.title('Loss')\n",
    "plt.grid(True)\n",
    "\n",
    "plt.subplot(2,1,2)\n",
    "plt.plot(train_history.history['accuracy'])\n",
    "plt.plot(train_history.history['val_accuracy'], 'ro')\n",
    "plt.title('Accuracy')\n",
    "plt.grid(True)"
   ],
   "metadata": {
    "collapsed": false
   },
   "id": "9572ddde181cb4cd"
  },
  {
   "cell_type": "code",
   "outputs": [],
   "source": [
    "# redefining the test generator so it doesnt shuffle\n",
    "test_generator = test_datagen.flow_from_directory(\n",
    "    test_dir,\n",
    "    target_size=(224, 224),\n",
    "    color_mode='rgb',\n",
    "    class_mode='categorical',\n",
    "    batch_size=32,\n",
    "    shuffle=False\n",
    ")\n",
    "\n",
    "true_labels = test_generator.classes\n",
    "preds = model.predict(test_generator, steps=len(test_generator))\n",
    "pred_labels = np.argmax(preds, axis=1)\n",
    "classes=list(test_generator.class_indices.keys())"
   ],
   "metadata": {
    "collapsed": false
   },
   "id": "4a568f683cb0969c"
  },
  {
   "cell_type": "code",
   "outputs": [],
   "source": [
    "print(classification_report(true_labels, pred_labels))"
   ],
   "metadata": {
    "collapsed": false
   },
   "id": "3d861750bdcffd7f"
  },
  {
   "cell_type": "code",
   "outputs": [],
   "source": [
    "cm = confusion_matrix(true_labels, pred_labels)\n",
    "\n",
    "plt.figure(figsize=(8,6))\n",
    "sns.heatmap(cm, annot=True, fmt=\"d\", cmap=\"magma\", xticklabels=classes, yticklabels=classes)\n",
    "plt.ylabel('True label')\n",
    "plt.xlabel('Predicted label')\n",
    "plt.title('Confusion Matrix')\n"
   ],
   "metadata": {
    "collapsed": false
   },
   "id": "2be78e400309751a"
  },
  {
   "cell_type": "code",
   "outputs": [],
   "source": [
    "y_encoded = pd.get_dummies(true_labels).astype(int).values\n",
    "preds_encoded = pd.get_dummies(pred_labels).astype(int).values\n",
    "\n",
    "fpr = dict()\n",
    "tpr = dict()\n",
    "roc_auc = dict()\n",
    "for i in range(7):\n",
    "    fpr[i], tpr[i], _ = roc_curve(y_encoded[:,i], preds_encoded[:,i])\n",
    "    roc_auc[i] = auc(fpr[i], tpr[i])\n",
    "\n",
    "plt.figure(figsize=(10,5))\n",
    "colors = ['#1f77b4', '#ff7f0e', '#2ca02c', '#d62728', '#9467bd', '#8c564b', '#e377c2']\n",
    "for i, color in enumerate(colors):\n",
    "    plt.plot(fpr[i], tpr[i], color=color, lw=2, label=f\"ROC curve for {classes[i]} (area = {roc_auc[i]:0.2f})\")\n",
    "    \n",
    "plt.plot([0, 1], [0, 1], 'k--', lw=2)\n",
    "plt.xlim([0, 1])\n",
    "plt.ylim([0, 1])\n",
    "plt.xlabel('False Positive Rate')\n",
    "plt.ylabel('True Positive Rate')\n",
    "plt.title('ROC Curve')\n",
    "plt.legend(loc='lower right')"
   ],
   "metadata": {
    "collapsed": false
   },
   "id": "ee3aba3f019a16ac"
  },
  {
   "cell_type": "code",
   "outputs": [],
   "source": [
    "model.save('EmotionDetectorResNet50.h5')"
   ],
   "metadata": {
    "collapsed": false
   },
   "id": "9da570caf397d7d9"
  }
 ],
 "metadata": {
  "kernelspec": {
   "display_name": "Python 3",
   "language": "python",
   "name": "python3"
  },
  "language_info": {
   "codemirror_mode": {
    "name": "ipython",
    "version": 2
   },
   "file_extension": ".py",
   "mimetype": "text/x-python",
   "name": "python",
   "nbconvert_exporter": "python",
   "pygments_lexer": "ipython2",
   "version": "2.7.6"
  }
 },
 "nbformat": 4,
 "nbformat_minor": 5
}
